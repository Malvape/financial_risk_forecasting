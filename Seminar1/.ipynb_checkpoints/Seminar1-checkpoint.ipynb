{
 "cells": [
  {
   "cell_type": "markdown",
   "metadata": {},
   "source": [
    "<head style = \"position:absolute; left:0px\" class = \"lse_header\">\n",
    "    <div style=\"width: 15%; float:left; height:100px;\">\n",
    "        <img src = \"https://www.dropbox.com/s/mz416p4rrm692ed/lse_logo.png?raw=1\" style=\"width: 100px; height: 35px; float:left; margin-top: 30px\">\n",
    "    </div>\n",
    "    <div style=\"width: 70%; float:left; height:100px;\">\n",
    "        <h4 style = \"text-align:center;margin-top: 30px;\">FM442: Quantitative Methods for Finance and Risk Analysis</h4>\n",
    "    </div>\n",
    "    <div style=\"width: 15%; float:left; height:100px;\">\n",
    "        <p style = \"text-align:right;margin-top:30px\">Jon Danielsson<br>\n",
    "    Michaelmas Term 2020</p>\n",
    "    </div>\n",
    "</head>"
   ]
  },
  {
   "cell_type": "markdown",
   "metadata": {},
   "source": [
    "<h1 style = \"text-align: center; font-size: 36px\">Seminar 1</h1>\n",
    "\n",
    "In this class we will:  \n",
    "\n",
    "[1. Familiarize ourselves with R and RStudio](#1)  \n",
    "[2. Learn some basic commands](#2)  \n",
    "[3. Download and import financial data](#3)  \n",
    "[4. Create a simple plot](#4)"
   ]
  },
  {
   "cell_type": "markdown",
   "metadata": {},
   "source": [
    "___\n",
    "<a name=\"1\"></a>\n",
    "## R and RStudio\n",
    "\n",
    "### What is R?\n",
    "\n",
    "R is a language and environment for statistical computing and graphics. It is a very powerful tool that will allow us to analyze financial data and implement models to assess and quantify risk. We will use it throughout the course for performing analyses and creating plots. No prior programming experience is required. We will go through some basics of the languages that should be enough to let you start working with financial datasets.\n",
    "\n",
    "### Downloading R\n",
    "\n",
    "You can download R for free from https://www.r-project.org, by following these steps:\n",
    "\n",
    "* Click _Download CRAN_ in the left bar\n",
    "* Choose a download site\n",
    "* Choose your operating system\n",
    "* Click on the latest release and the download should start\n",
    "\n",
    "The software is open source, meaning that is supported by a community of developers. This is one of the main advantages of R, since it is constantly updated and offers a wide range of packages. A package is a bundle of code, data and documentation that can be easily downloaded and used in your own projects. We will use some packages for financial data.\n",
    "\n",
    "### RStudio\n",
    "\n",
    "RStudio is an \"Integrated Developer Environment\" (IDE), which just means it is an application where you can write your code, execute it, visualize plots, and see the objects you have created. You can download it here: https://rstudio.com. Once you open RStudio, you will see a screen like this:\n",
    "<img src = \"https://www.dropbox.com/s/kgkl58tesvua7jd/Screenshot%202020-06-23%20at%2015.11.53.png?raw=1\" width = 800px></img> \n",
    "\n",
    "_Editor:_ Where we write our code. Here we can create or open .R files that contain code to be executed.  \n",
    "_Console:_ The output of the code executed will be shown here.  \n",
    "_Information:_ Here we will see the packages we have installed, plots once we create them, and details and documentation.  \n",
    "\n",
    "### Difference between R and RStudio\n",
    "\n",
    "R and RStudio are two different things, but they work together. R is the programming language, and RStudio is the tool that helps you create programs using R. R can work without RStudio but not the other way around. RStudio can be thought of an interpreter to execute commands, create R scripts, manage R variables, reuse commands from history, visual debugging etc. Basically it lets you code in R easily.\n",
    "\n",
    "### Setting up the Working Directory and creating your first file\n",
    "\n",
    "To start working in RStudio, we need to first set our _Working Directory_. For our purposes, this should be the folder where we are going to store our data to easily access it. You can set up the Working Directory by going on `Session -> Set Working Directory -> Choose Directory...`, or you can also type in the console `setwd(\"~/PATH\")` with the path of the Directory.\n",
    "\n",
    "To create your first file, choose `File -> New File -> R Script`. Now you are ready to write your code. To execute any part, you can select it and do `Shift + Enter` or use the button `Run`.\n",
    "\n",
    "### R file vs R Console\n",
    "\n",
    "An R file (.R) is no more than a text file written in the R language. When we want to run an R file, it is executed in the R Console. You could directly type code into the console and run it, but an R file helps keep your program organized. "
   ]
  },
  {
   "cell_type": "markdown",
   "metadata": {},
   "source": [
    "___\n",
    "<a name=\"2\"></a>\n",
    "## Some basic commands\n",
    "\n",
    "You can use R as a calculator:"
   ]
  },
  {
   "cell_type": "code",
   "execution_count": 1,
   "metadata": {},
   "outputs": [
    {
     "data": {
      "text/html": [
       "5"
      ],
      "text/latex": [
       "5"
      ],
      "text/markdown": [
       "5"
      ],
      "text/plain": [
       "[1] 5"
      ]
     },
     "metadata": {},
     "output_type": "display_data"
    },
    {
     "data": {
      "text/html": [
       "28"
      ],
      "text/latex": [
       "28"
      ],
      "text/markdown": [
       "28"
      ],
      "text/plain": [
       "[1] 28"
      ]
     },
     "metadata": {},
     "output_type": "display_data"
    },
    {
     "data": {
      "text/html": [
       "0.538615114094899"
      ],
      "text/latex": [
       "0.538615114094899"
      ],
      "text/markdown": [
       "0.538615114094899"
      ],
      "text/plain": [
       "[1] 0.5386151"
      ]
     },
     "metadata": {},
     "output_type": "display_data"
    }
   ],
   "source": [
    "# This is a comment, it won't produce any output\n",
    "3 + 2\n",
    "14 * 2\n",
    "0.94^10"
   ]
  },
  {
   "cell_type": "markdown",
   "metadata": {},
   "source": [
    "In R you can store variables, which are just pieces of information like numbers. You create variables to be able to use them in other parts of your code. To assign a value to a variable, you can either use an arrow `<-` or an equal sign `=`. The former is the more correct way, but I prefer using the latter. Once created, you can \"call\" them by their name:"
   ]
  },
  {
   "cell_type": "code",
   "execution_count": 2,
   "metadata": {},
   "outputs": [
    {
     "data": {
      "text/html": [
       "442"
      ],
      "text/latex": [
       "442"
      ],
      "text/markdown": [
       "442"
      ],
      "text/plain": [
       "[1] 442"
      ]
     },
     "metadata": {},
     "output_type": "display_data"
    },
    {
     "data": {
      "text/html": [
       "'Hello world'"
      ],
      "text/latex": [
       "'Hello world'"
      ],
      "text/markdown": [
       "'Hello world'"
      ],
      "text/plain": [
       "[1] \"Hello world\""
      ]
     },
     "metadata": {},
     "output_type": "display_data"
    }
   ],
   "source": [
    "my_number <- 442\n",
    "my_number\n",
    "\n",
    "my_string <- \"Hello world\"\n",
    "my_string"
   ]
  },
  {
   "cell_type": "markdown",
   "metadata": {},
   "source": [
    "We will work with vectors and matrices. They can only hold one type of data, either numbers or text. Vectors and matrices are created as follows:"
   ]
  },
  {
   "cell_type": "code",
   "execution_count": 3,
   "metadata": {},
   "outputs": [
    {
     "data": {
      "text/html": [
       "<ol class=list-inline>\n",
       "\t<li>1</li>\n",
       "\t<li>2</li>\n",
       "\t<li>3</li>\n",
       "</ol>\n"
      ],
      "text/latex": [
       "\\begin{enumerate*}\n",
       "\\item 1\n",
       "\\item 2\n",
       "\\item 3\n",
       "\\end{enumerate*}\n"
      ],
      "text/markdown": [
       "1. 1\n",
       "2. 2\n",
       "3. 3\n",
       "\n",
       "\n"
      ],
      "text/plain": [
       "[1] 1 2 3"
      ]
     },
     "metadata": {},
     "output_type": "display_data"
    },
    {
     "data": {
      "text/html": [
       "<ol class=list-inline>\n",
       "\t<li>'FM'</li>\n",
       "\t<li>'442'</li>\n",
       "</ol>\n"
      ],
      "text/latex": [
       "\\begin{enumerate*}\n",
       "\\item 'FM'\n",
       "\\item '442'\n",
       "\\end{enumerate*}\n"
      ],
      "text/markdown": [
       "1. 'FM'\n",
       "2. '442'\n",
       "\n",
       "\n"
      ],
      "text/plain": [
       "[1] \"FM\"  \"442\""
      ]
     },
     "metadata": {},
     "output_type": "display_data"
    },
    {
     "data": {
      "text/html": [
       "<table>\n",
       "<tbody>\n",
       "\t<tr><td>1</td><td>3</td></tr>\n",
       "\t<tr><td>2</td><td>4</td></tr>\n",
       "</tbody>\n",
       "</table>\n"
      ],
      "text/latex": [
       "\\begin{tabular}{ll}\n",
       "\t 1 & 3\\\\\n",
       "\t 2 & 4\\\\\n",
       "\\end{tabular}\n"
      ],
      "text/markdown": [
       "\n",
       "| 1 | 3 |\n",
       "| 2 | 4 |\n",
       "\n"
      ],
      "text/plain": [
       "     [,1] [,2]\n",
       "[1,] 1    3   \n",
       "[2,] 2    4   "
      ]
     },
     "metadata": {},
     "output_type": "display_data"
    },
    {
     "data": {
      "text/html": [
       "<table>\n",
       "<tbody>\n",
       "\t<tr><td>a</td><td>b</td></tr>\n",
       "\t<tr><td>c</td><td>d</td></tr>\n",
       "\t<tr><td>e</td><td>f</td></tr>\n",
       "</tbody>\n",
       "</table>\n"
      ],
      "text/latex": [
       "\\begin{tabular}{ll}\n",
       "\t a & b\\\\\n",
       "\t c & d\\\\\n",
       "\t e & f\\\\\n",
       "\\end{tabular}\n"
      ],
      "text/markdown": [
       "\n",
       "| a | b |\n",
       "| c | d |\n",
       "| e | f |\n",
       "\n"
      ],
      "text/plain": [
       "     [,1] [,2]\n",
       "[1,] a    b   \n",
       "[2,] c    d   \n",
       "[3,] e    f   "
      ]
     },
     "metadata": {},
     "output_type": "display_data"
    }
   ],
   "source": [
    "# This is a vector:\n",
    "vec1 <- c(1,2,3)\n",
    "vec2 <- c(\"FM\", \"442\")\n",
    "\n",
    "# This is a matrix:\n",
    "mtx1 <- matrix(c(1,2,3,4), nrow = 2, ncol = 2)\n",
    "mtx2 <- matrix(c(\"a\", \"b\", \"c\", \"d\", \"e\",\"f\"), nrow = 3, ncol = 2, byrow = TRUE)\n",
    "\n",
    "vec1\n",
    "vec2\n",
    "mtx1\n",
    "mtx2"
   ]
  },
  {
   "cell_type": "code",
   "execution_count": 4,
   "metadata": {},
   "outputs": [
    {
     "data": {
      "text/html": [
       "3"
      ],
      "text/latex": [
       "3"
      ],
      "text/markdown": [
       "3"
      ],
      "text/plain": [
       "[1] 3"
      ]
     },
     "metadata": {},
     "output_type": "display_data"
    },
    {
     "data": {
      "text/html": [
       "<ol class=list-inline>\n",
       "\t<li>2</li>\n",
       "\t<li>2</li>\n",
       "</ol>\n"
      ],
      "text/latex": [
       "\\begin{enumerate*}\n",
       "\\item 2\n",
       "\\item 2\n",
       "\\end{enumerate*}\n"
      ],
      "text/markdown": [
       "1. 2\n",
       "2. 2\n",
       "\n",
       "\n"
      ],
      "text/plain": [
       "[1] 2 2"
      ]
     },
     "metadata": {},
     "output_type": "display_data"
    }
   ],
   "source": [
    "# Lenght of a vector\n",
    "length(vec1)\n",
    "\n",
    "# Dimensions of a matrix\n",
    "dim(mtx1)"
   ]
  },
  {
   "cell_type": "markdown",
   "metadata": {},
   "source": [
    "### Accessing elements of vectors and matrices\n",
    "\n",
    "We can access a single element or a subset of vectors and matrices using the brackets `[]` next to the variable's name and specifying the index of the desired elements. For matrices we need to specify the row followed by a comma and the column. If we want an entire row/column, we can leave the space blank:"
   ]
  },
  {
   "cell_type": "code",
   "execution_count": 5,
   "metadata": {
    "scrolled": true
   },
   "outputs": [
    {
     "data": {
      "text/html": [
       "'442'"
      ],
      "text/latex": [
       "'442'"
      ],
      "text/markdown": [
       "'442'"
      ],
      "text/plain": [
       "[1] \"442\""
      ]
     },
     "metadata": {},
     "output_type": "display_data"
    },
    {
     "data": {
      "text/html": [
       "'f'"
      ],
      "text/latex": [
       "'f'"
      ],
      "text/markdown": [
       "'f'"
      ],
      "text/plain": [
       "[1] \"f\""
      ]
     },
     "metadata": {},
     "output_type": "display_data"
    }
   ],
   "source": [
    "# Second element of vec2\n",
    "vec2[2]\n",
    "\n",
    "# Third element of the second column of mtx2\n",
    "mtx2[3,2]"
   ]
  },
  {
   "cell_type": "code",
   "execution_count": 6,
   "metadata": {},
   "outputs": [
    {
     "data": {
      "text/html": [
       "<ol class=list-inline>\n",
       "\t<li>'Finance'</li>\n",
       "\t<li>'442'</li>\n",
       "</ol>\n"
      ],
      "text/latex": [
       "\\begin{enumerate*}\n",
       "\\item 'Finance'\n",
       "\\item '442'\n",
       "\\end{enumerate*}\n"
      ],
      "text/markdown": [
       "1. 'Finance'\n",
       "2. '442'\n",
       "\n",
       "\n"
      ],
      "text/plain": [
       "[1] \"Finance\" \"442\"    "
      ]
     },
     "metadata": {},
     "output_type": "display_data"
    },
    {
     "data": {
      "text/html": [
       "<table>\n",
       "<tbody>\n",
       "\t<tr><td>a</td><td>b</td></tr>\n",
       "\t<tr><td>c</td><td>d</td></tr>\n",
       "\t<tr><td>e</td><td>X</td></tr>\n",
       "</tbody>\n",
       "</table>\n"
      ],
      "text/latex": [
       "\\begin{tabular}{ll}\n",
       "\t a & b\\\\\n",
       "\t c & d\\\\\n",
       "\t e & X\\\\\n",
       "\\end{tabular}\n"
      ],
      "text/markdown": [
       "\n",
       "| a | b |\n",
       "| c | d |\n",
       "| e | X |\n",
       "\n"
      ],
      "text/plain": [
       "     [,1] [,2]\n",
       "[1,] a    b   \n",
       "[2,] c    d   \n",
       "[3,] e    X   "
      ]
     },
     "metadata": {},
     "output_type": "display_data"
    }
   ],
   "source": [
    "# We can also change an element this way\n",
    "vec2[1] <- \"Finance\"\n",
    "mtx2[3,2] <- \"X\"\n",
    "\n",
    "vec2\n",
    "mtx2"
   ]
  },
  {
   "cell_type": "markdown",
   "metadata": {},
   "source": [
    "### Sequences\n",
    "\n",
    "The function `seq()` allows us to easily create a vector of evenly distributed numbers between a first and last element:"
   ]
  },
  {
   "cell_type": "code",
   "execution_count": 7,
   "metadata": {},
   "outputs": [
    {
     "data": {
      "text/html": [
       "<ol class=list-inline>\n",
       "\t<li>2</li>\n",
       "\t<li>4</li>\n",
       "\t<li>6</li>\n",
       "\t<li>8</li>\n",
       "\t<li>10</li>\n",
       "</ol>\n"
      ],
      "text/latex": [
       "\\begin{enumerate*}\n",
       "\\item 2\n",
       "\\item 4\n",
       "\\item 6\n",
       "\\item 8\n",
       "\\item 10\n",
       "\\end{enumerate*}\n"
      ],
      "text/markdown": [
       "1. 2\n",
       "2. 4\n",
       "3. 6\n",
       "4. 8\n",
       "5. 10\n",
       "\n",
       "\n"
      ],
      "text/plain": [
       "[1]  2  4  6  8 10"
      ]
     },
     "metadata": {},
     "output_type": "display_data"
    },
    {
     "data": {
      "text/html": [
       "<ol class=list-inline>\n",
       "\t<li>1</li>\n",
       "\t<li>2</li>\n",
       "\t<li>3</li>\n",
       "\t<li>4</li>\n",
       "\t<li>5</li>\n",
       "</ol>\n"
      ],
      "text/latex": [
       "\\begin{enumerate*}\n",
       "\\item 1\n",
       "\\item 2\n",
       "\\item 3\n",
       "\\item 4\n",
       "\\item 5\n",
       "\\end{enumerate*}\n"
      ],
      "text/markdown": [
       "1. 1\n",
       "2. 2\n",
       "3. 3\n",
       "4. 4\n",
       "5. 5\n",
       "\n",
       "\n"
      ],
      "text/plain": [
       "[1] 1 2 3 4 5"
      ]
     },
     "metadata": {},
     "output_type": "display_data"
    }
   ],
   "source": [
    "# You need to specify the first and last element, and the increment\n",
    "seq1 <- seq(2, 10, by = 2)\n",
    "\n",
    "# With only one input it will create an integer sequence from 1 \n",
    "seq2 <- seq(5)\n",
    "\n",
    "seq1\n",
    "seq2"
   ]
  },
  {
   "cell_type": "markdown",
   "metadata": {},
   "source": [
    "### Data Frames\n",
    "\n",
    "A data frame is similar to a matrix but it can hold data from different types and can have column names. It is the variable type that we will use the most through the course. You can transform a matrix into a data frame by passing the function `as.data.frame`, or create one from scratch by:"
   ]
  },
  {
   "cell_type": "code",
   "execution_count": 8,
   "metadata": {
    "scrolled": true
   },
   "outputs": [
    {
     "data": {
      "text/html": [
       "<table>\n",
       "<thead><tr><th scope=col>Stock</th><th scope=col>Price</th></tr></thead>\n",
       "<tbody>\n",
       "\t<tr><td>A </td><td>42</td></tr>\n",
       "\t<tr><td>B </td><td>68</td></tr>\n",
       "</tbody>\n",
       "</table>\n"
      ],
      "text/latex": [
       "\\begin{tabular}{r|ll}\n",
       " Stock & Price\\\\\n",
       "\\hline\n",
       "\t A  & 42\\\\\n",
       "\t B  & 68\\\\\n",
       "\\end{tabular}\n"
      ],
      "text/markdown": [
       "\n",
       "| Stock | Price |\n",
       "|---|---|\n",
       "| A  | 42 |\n",
       "| B  | 68 |\n",
       "\n"
      ],
      "text/plain": [
       "  Stock Price\n",
       "1 A     42   \n",
       "2 B     68   "
      ]
     },
     "metadata": {},
     "output_type": "display_data"
    }
   ],
   "source": [
    "# Create a data with two variables frame using data.frame\n",
    "x <- data.frame(\"Stock\" = c(\"A\", \"B\"), \"Price\" = c(42,68))\n",
    "x"
   ]
  },
  {
   "cell_type": "code",
   "execution_count": 9,
   "metadata": {
    "scrolled": true
   },
   "outputs": [
    {
     "data": {
      "text/html": [
       "<ol class=list-inline>\n",
       "\t<li>42</li>\n",
       "\t<li>68</li>\n",
       "</ol>\n"
      ],
      "text/latex": [
       "\\begin{enumerate*}\n",
       "\\item 42\n",
       "\\item 68\n",
       "\\end{enumerate*}\n"
      ],
      "text/markdown": [
       "1. 42\n",
       "2. 68\n",
       "\n",
       "\n"
      ],
      "text/plain": [
       "[1] 42 68"
      ]
     },
     "metadata": {},
     "output_type": "display_data"
    },
    {
     "data": {
      "text/html": [
       "<ol class=list-inline>\n",
       "\t<li>42</li>\n",
       "\t<li>68</li>\n",
       "</ol>\n"
      ],
      "text/latex": [
       "\\begin{enumerate*}\n",
       "\\item 42\n",
       "\\item 68\n",
       "\\end{enumerate*}\n"
      ],
      "text/markdown": [
       "1. 42\n",
       "2. 68\n",
       "\n",
       "\n"
      ],
      "text/plain": [
       "[1] 42 68"
      ]
     },
     "metadata": {},
     "output_type": "display_data"
    }
   ],
   "source": [
    "# Accessing a column\n",
    "x[,2]\n",
    "x$Price"
   ]
  },
  {
   "cell_type": "code",
   "execution_count": 10,
   "metadata": {},
   "outputs": [
    {
     "data": {
      "text/html": [
       "<table>\n",
       "<thead><tr><th scope=col>Stock</th><th scope=col>Price</th><th scope=col>Price_plus_1</th></tr></thead>\n",
       "<tbody>\n",
       "\t<tr><td>A </td><td>42</td><td>43</td></tr>\n",
       "\t<tr><td>B </td><td>68</td><td>69</td></tr>\n",
       "</tbody>\n",
       "</table>\n"
      ],
      "text/latex": [
       "\\begin{tabular}{r|lll}\n",
       " Stock & Price & Price\\_plus\\_1\\\\\n",
       "\\hline\n",
       "\t A  & 42 & 43\\\\\n",
       "\t B  & 68 & 69\\\\\n",
       "\\end{tabular}\n"
      ],
      "text/markdown": [
       "\n",
       "| Stock | Price | Price_plus_1 |\n",
       "|---|---|---|\n",
       "| A  | 42 | 43 |\n",
       "| B  | 68 | 69 |\n",
       "\n"
      ],
      "text/plain": [
       "  Stock Price Price_plus_1\n",
       "1 A     42    43          \n",
       "2 B     68    69          "
      ]
     },
     "metadata": {},
     "output_type": "display_data"
    }
   ],
   "source": [
    "# Creating a new column\n",
    "x$Price_plus_1 <- x$Price + 1\n",
    "x"
   ]
  },
  {
   "cell_type": "markdown",
   "metadata": {},
   "source": [
    "### For-Loops and If-Statements\n",
    "\n",
    "For-loops and If-Statements are a essential part of programming, allowing us to automate pieces of code.\n",
    "\n",
    "A `for` loop repeats a piece of code for various elements of an array. The syntax is:\n",
    "\n",
    "    for (elements) {\n",
    "        code to be repeated\n",
    "    }\n",
    "\n",
    "Imagine we want to see the square of the first ten numbers:"
   ]
  },
  {
   "cell_type": "code",
   "execution_count": 11,
   "metadata": {},
   "outputs": [
    {
     "name": "stdout",
     "output_type": "stream",
     "text": [
      "[1] 1\n",
      "[1] 4\n",
      "[1] 9\n",
      "[1] 16\n",
      "[1] 25\n",
      "[1] 36\n",
      "[1] 49\n",
      "[1] 64\n",
      "[1] 81\n",
      "[1] 100\n"
     ]
    }
   ],
   "source": [
    "for (i in 1:10) { # For every element i in 1, 2, ... 10\n",
    "    print(i^2) # print() displays the value in the console \n",
    "}"
   ]
  },
  {
   "cell_type": "markdown",
   "metadata": {},
   "source": [
    "An `if` statement evaluates a logical claim, which can be either `TRUE` or `FALSE`, and based on that condition executes a piece of code or another. A logical value can be:\n",
    "\n",
    "* 5 < 10:  `TRUE`\n",
    "* pi = 3:  `FALSE`\n",
    "\n",
    "The syntax of a basic `if` statement is:\n",
    "\n",
    "    if (condition) {\n",
    "        code to be executed if condition is TRUE\n",
    "    } else {\n",
    "        code to be executed if condition is FALSE\n",
    "    }\n",
    "    \n",
    "For example:"
   ]
  },
  {
   "cell_type": "code",
   "execution_count": 12,
   "metadata": {},
   "outputs": [
    {
     "name": "stdout",
     "output_type": "stream",
     "text": [
      "[1] \"x has a positive value\"\n"
     ]
    }
   ],
   "source": [
    "x <- 10\n",
    "\n",
    "if (x > 0) {\n",
    "    print(\"x has a positive value\")\n",
    "} else {\n",
    "    print(\"x has a negative value\")\n",
    "}"
   ]
  },
  {
   "cell_type": "markdown",
   "metadata": {},
   "source": [
    "___\n",
    "<a name=\"3\"></a>\n",
    "## Downloading, importing  and manipulating financial data\n",
    "\n",
    "We will download data on a number of stocks and manipulate it. The database to use is provided by the Center for Research in Security Prices, and is usually known as CRSP. You will access it through a provider called Wharton Research and Data Services (WRDS). To start with, create a student account at https://wrds-web.wharton.upenn.edu/wrds/, as it can take a few days, please do that early.\n",
    "\n",
    "### Ticker, Company Name, PERMNO\n",
    "\n",
    "There are different ways of identifying a company in CRSP, and we need to be careful with what we choose. It is very common to associate a stock with its TICKER, but if the company has a merger, this might be subject to change. For example, if we consider JP Morgan (Ticker: JPM), historically it has been officially registered with different names before some mergers and acquisitions happened (Chemical Banking Corp, Chase Manhattan Corp, etc), each which a different ticker, but it is essentially the same company, and by specifying the Ticker JPM we would be losing years of financial data. For this reason, we work with the permanent company number, or PERMNO, which is mantained over time.\n",
    "\n",
    "### Note about data formats\n",
    "\n",
    "For the purpose of this course, we will mostly be working with _comma-separated values_ , or _.csv_ files.\n",
    "\n",
    "### Downloading the data\n",
    "\n",
    "Once logged on, do Select CRSP and go to “Stock / Security Files / Daily Stock File”, as shown in the screenshots below:\n",
    "\n",
    "<img src = \"https://www.dropbox.com/s/trwpw9tnge4xhw1/Screenshot%202020-06-23%20at%2014.55.22.png?raw=1\" width = 800px></img>  \n",
    "<img src = \"https://www.dropbox.com/s/ppc9o8ibjdlgdzr/Screenshot%202020-06-23%20at%2014.55.42.png?raw=1\" width = 800px></img>  \n",
    "<img src = \"https://www.dropbox.com/s/6b11bcrnlx4j3mu/Screenshot%202020-06-23%20at%2014.56.37.png?raw=1\" width = 800px></img>  \n",
    "\n",
    "Explore the page, and help provided. Then in the steps\n",
    "\n",
    "1. Choose 1 January 1990 to 31 December 2019\n",
    "2. Select ticker and codes for Microsoft MSFT, Exxon XOM, General Electric GE, JPMorgan Chase JPM, Intel INTC and Citigroup C\n",
    "3. Select the following information:  \n",
    "    • From the identifying information: Company Name, Ticker;   \n",
    "    • From the time series information: Price, Holding Period Return;  \n",
    "    • From the distribution information: Cumulative Factor to Adjust Price;  \n",
    "4. Use comma-delimited text and default date format (YYYYMMDDn8) for the output.  \n",
    "\n",
    "Click “Submit Query”  \n",
    "Open the output file in Excel and look for unexpected output.  \n",
    "\n",
    "Redo the exercise but this time selecting PERMNO in Step 2, using 10107 59328 12060 47896 70519 11850  \n",
    "Explain the differences in the two output files.  \n",
    "Save the output into a file in some directory as ‘crsp.csv’  \n",
    "\n",
    "### Variable description\n",
    "\n",
    "All the details on the variables we download can be found in the _Variable Descripions_ section of WRDS. It is important to distinguish between the type of returns we are using, whether we are including dividends or not. For example, the description of the time series variables we have downloaded is:\n",
    "\n",
    "* PRC: \"PRC is the closing price or the negative bid/ask average for a trading day. If the closing price is not available on any given trading day, the number in the price field has a negative sign to indicate that it is a bid/ask average and not an actual closing price [...]\"\n",
    "* RET: \"A return is the change in the total value of an investment in a common stock over some period of time per dollar of initial investment. RET(I) is the return for a sale on day I. It is based on a purchase on the most recent time previous to I when the se curity had a valid price. Usually, this time is I - 1 [...]\"\n",
    "\n",
    "### Importing our data into R\n",
    "\n",
    "Open RStudio and select the directory you chose in the last step as the Working Directory.\n",
    "In your R script, write and execute:"
   ]
  },
  {
   "cell_type": "code",
   "execution_count": 13,
   "metadata": {},
   "outputs": [],
   "source": [
    "# This line will just make our lifes easier\n",
    "options(stringsAsFactors = FALSE)\n",
    "\n",
    "# Importing the downloaded data\n",
    "data <- read.csv('crsp.csv')"
   ]
  },
  {
   "cell_type": "code",
   "execution_count": 14,
   "metadata": {},
   "outputs": [
    {
     "data": {
      "text/html": [
       "<ol class=list-inline>\n",
       "\t<li>45354</li>\n",
       "\t<li>7</li>\n",
       "</ol>\n"
      ],
      "text/latex": [
       "\\begin{enumerate*}\n",
       "\\item 45354\n",
       "\\item 7\n",
       "\\end{enumerate*}\n"
      ],
      "text/markdown": [
       "1. 45354\n",
       "2. 7\n",
       "\n",
       "\n"
      ],
      "text/plain": [
       "[1] 45354     7"
      ]
     },
     "metadata": {},
     "output_type": "display_data"
    }
   ],
   "source": [
    "# Checking the dimensions\n",
    "dim(data)"
   ]
  },
  {
   "cell_type": "code",
   "execution_count": 15,
   "metadata": {},
   "outputs": [
    {
     "data": {
      "text/html": [
       "<table>\n",
       "<thead><tr><th scope=col>PERMNO</th><th scope=col>date</th><th scope=col>TICKER</th><th scope=col>COMNAM</th><th scope=col>PRC</th><th scope=col>RET</th><th scope=col>CFACPR</th></tr></thead>\n",
       "<tbody>\n",
       "\t<tr><td>10107         </td><td>19900102      </td><td>MSFT          </td><td>MICROSOFT CORP</td><td>88.750        </td><td> 0.020115     </td><td>144           </td></tr>\n",
       "\t<tr><td>10107         </td><td>19900103      </td><td>MSFT          </td><td>MICROSOFT CORP</td><td>89.250        </td><td> 0.005634     </td><td>144           </td></tr>\n",
       "\t<tr><td>10107         </td><td>19900104      </td><td>MSFT          </td><td>MICROSOFT CORP</td><td>91.875        </td><td> 0.029412     </td><td>144           </td></tr>\n",
       "\t<tr><td>10107         </td><td>19900105      </td><td>MSFT          </td><td>MICROSOFT CORP</td><td>89.625        </td><td>-0.024490     </td><td>144           </td></tr>\n",
       "\t<tr><td>10107         </td><td>19900108      </td><td>MSFT          </td><td>MICROSOFT CORP</td><td>91.000        </td><td> 0.015342     </td><td>144           </td></tr>\n",
       "\t<tr><td>10107         </td><td>19900109      </td><td>MSFT          </td><td>MICROSOFT CORP</td><td>90.750        </td><td>-0.002747     </td><td>144           </td></tr>\n",
       "</tbody>\n",
       "</table>\n"
      ],
      "text/latex": [
       "\\begin{tabular}{r|lllllll}\n",
       " PERMNO & date & TICKER & COMNAM & PRC & RET & CFACPR\\\\\n",
       "\\hline\n",
       "\t 10107          & 19900102       & MSFT           & MICROSOFT CORP & 88.750         &  0.020115      & 144           \\\\\n",
       "\t 10107          & 19900103       & MSFT           & MICROSOFT CORP & 89.250         &  0.005634      & 144           \\\\\n",
       "\t 10107          & 19900104       & MSFT           & MICROSOFT CORP & 91.875         &  0.029412      & 144           \\\\\n",
       "\t 10107          & 19900105       & MSFT           & MICROSOFT CORP & 89.625         & -0.024490      & 144           \\\\\n",
       "\t 10107          & 19900108       & MSFT           & MICROSOFT CORP & 91.000         &  0.015342      & 144           \\\\\n",
       "\t 10107          & 19900109       & MSFT           & MICROSOFT CORP & 90.750         & -0.002747      & 144           \\\\\n",
       "\\end{tabular}\n"
      ],
      "text/markdown": [
       "\n",
       "| PERMNO | date | TICKER | COMNAM | PRC | RET | CFACPR |\n",
       "|---|---|---|---|---|---|---|\n",
       "| 10107          | 19900102       | MSFT           | MICROSOFT CORP | 88.750         |  0.020115      | 144            |\n",
       "| 10107          | 19900103       | MSFT           | MICROSOFT CORP | 89.250         |  0.005634      | 144            |\n",
       "| 10107          | 19900104       | MSFT           | MICROSOFT CORP | 91.875         |  0.029412      | 144            |\n",
       "| 10107          | 19900105       | MSFT           | MICROSOFT CORP | 89.625         | -0.024490      | 144            |\n",
       "| 10107          | 19900108       | MSFT           | MICROSOFT CORP | 91.000         |  0.015342      | 144            |\n",
       "| 10107          | 19900109       | MSFT           | MICROSOFT CORP | 90.750         | -0.002747      | 144            |\n",
       "\n"
      ],
      "text/plain": [
       "  PERMNO date     TICKER COMNAM         PRC    RET       CFACPR\n",
       "1 10107  19900102 MSFT   MICROSOFT CORP 88.750  0.020115 144   \n",
       "2 10107  19900103 MSFT   MICROSOFT CORP 89.250  0.005634 144   \n",
       "3 10107  19900104 MSFT   MICROSOFT CORP 91.875  0.029412 144   \n",
       "4 10107  19900105 MSFT   MICROSOFT CORP 89.625 -0.024490 144   \n",
       "5 10107  19900108 MSFT   MICROSOFT CORP 91.000  0.015342 144   \n",
       "6 10107  19900109 MSFT   MICROSOFT CORP 90.750 -0.002747 144   "
      ]
     },
     "metadata": {},
     "output_type": "display_data"
    }
   ],
   "source": [
    "# First observations\n",
    "head(data)"
   ]
  },
  {
   "cell_type": "code",
   "execution_count": 16,
   "metadata": {},
   "outputs": [
    {
     "data": {
      "text/html": [
       "<ol class=list-inline>\n",
       "\t<li>0.020115</li>\n",
       "\t<li>0.005634</li>\n",
       "\t<li>0.029412</li>\n",
       "\t<li>-0.02449</li>\n",
       "\t<li>0.015342</li>\n",
       "\t<li>-0.002747</li>\n",
       "</ol>\n"
      ],
      "text/latex": [
       "\\begin{enumerate*}\n",
       "\\item 0.020115\n",
       "\\item 0.005634\n",
       "\\item 0.029412\n",
       "\\item -0.02449\n",
       "\\item 0.015342\n",
       "\\item -0.002747\n",
       "\\end{enumerate*}\n"
      ],
      "text/markdown": [
       "1. 0.020115\n",
       "2. 0.005634\n",
       "3. 0.029412\n",
       "4. -0.02449\n",
       "5. 0.015342\n",
       "6. -0.002747\n",
       "\n",
       "\n"
      ],
      "text/plain": [
       "[1]  0.020115  0.005634  0.029412 -0.024490  0.015342 -0.002747"
      ]
     },
     "metadata": {},
     "output_type": "display_data"
    },
    {
     "data": {
      "text/html": [
       "<ol class=list-inline>\n",
       "\t<li>0.020115</li>\n",
       "\t<li>0.005634</li>\n",
       "\t<li>0.029412</li>\n",
       "\t<li>-0.02449</li>\n",
       "\t<li>0.015342</li>\n",
       "\t<li>-0.002747</li>\n",
       "</ol>\n"
      ],
      "text/latex": [
       "\\begin{enumerate*}\n",
       "\\item 0.020115\n",
       "\\item 0.005634\n",
       "\\item 0.029412\n",
       "\\item -0.02449\n",
       "\\item 0.015342\n",
       "\\item -0.002747\n",
       "\\end{enumerate*}\n"
      ],
      "text/markdown": [
       "1. 0.020115\n",
       "2. 0.005634\n",
       "3. 0.029412\n",
       "4. -0.02449\n",
       "5. 0.015342\n",
       "6. -0.002747\n",
       "\n",
       "\n"
      ],
      "text/plain": [
       "[1]  0.020115  0.005634  0.029412 -0.024490  0.015342 -0.002747"
      ]
     },
     "metadata": {},
     "output_type": "display_data"
    }
   ],
   "source": [
    "# A single column\n",
    "head(data$RET)\n",
    "head(data[,6])"
   ]
  },
  {
   "cell_type": "code",
   "execution_count": 17,
   "metadata": {},
   "outputs": [
    {
     "data": {
      "text/html": [
       "<ol class=list-inline>\n",
       "\t<li>'PERMNO'</li>\n",
       "\t<li>'date'</li>\n",
       "\t<li>'TICKER'</li>\n",
       "\t<li>'COMNAM'</li>\n",
       "\t<li>'PRC'</li>\n",
       "\t<li>'RET'</li>\n",
       "\t<li>'CFACPR'</li>\n",
       "</ol>\n"
      ],
      "text/latex": [
       "\\begin{enumerate*}\n",
       "\\item 'PERMNO'\n",
       "\\item 'date'\n",
       "\\item 'TICKER'\n",
       "\\item 'COMNAM'\n",
       "\\item 'PRC'\n",
       "\\item 'RET'\n",
       "\\item 'CFACPR'\n",
       "\\end{enumerate*}\n"
      ],
      "text/markdown": [
       "1. 'PERMNO'\n",
       "2. 'date'\n",
       "3. 'TICKER'\n",
       "4. 'COMNAM'\n",
       "5. 'PRC'\n",
       "6. 'RET'\n",
       "7. 'CFACPR'\n",
       "\n",
       "\n"
      ],
      "text/plain": [
       "[1] \"PERMNO\" \"date\"   \"TICKER\" \"COMNAM\" \"PRC\"    \"RET\"    \"CFACPR\""
      ]
     },
     "metadata": {},
     "output_type": "display_data"
    }
   ],
   "source": [
    "# Names of the columns\n",
    "names(data)"
   ]
  },
  {
   "cell_type": "code",
   "execution_count": 18,
   "metadata": {},
   "outputs": [
    {
     "data": {
      "text/html": [
       "<ol class=list-inline>\n",
       "\t<li>10107</li>\n",
       "\t<li>11850</li>\n",
       "\t<li>12060</li>\n",
       "\t<li>47896</li>\n",
       "\t<li>59328</li>\n",
       "\t<li>70519</li>\n",
       "</ol>\n"
      ],
      "text/latex": [
       "\\begin{enumerate*}\n",
       "\\item 10107\n",
       "\\item 11850\n",
       "\\item 12060\n",
       "\\item 47896\n",
       "\\item 59328\n",
       "\\item 70519\n",
       "\\end{enumerate*}\n"
      ],
      "text/markdown": [
       "1. 10107\n",
       "2. 11850\n",
       "3. 12060\n",
       "4. 47896\n",
       "5. 59328\n",
       "6. 70519\n",
       "\n",
       "\n"
      ],
      "text/plain": [
       "[1] 10107 11850 12060 47896 59328 70519"
      ]
     },
     "metadata": {},
     "output_type": "display_data"
    }
   ],
   "source": [
    "# Getting unique values of PERMNO\n",
    "unique(data$PERMNO)"
   ]
  },
  {
   "cell_type": "code",
   "execution_count": 19,
   "metadata": {},
   "outputs": [
    {
     "data": {
      "text/html": [
       "<ol class=list-inline>\n",
       "\t<li>7559</li>\n",
       "\t<li>7</li>\n",
       "</ol>\n"
      ],
      "text/latex": [
       "\\begin{enumerate*}\n",
       "\\item 7559\n",
       "\\item 7\n",
       "\\end{enumerate*}\n"
      ],
      "text/markdown": [
       "1. 7559\n",
       "2. 7\n",
       "\n",
       "\n"
      ],
      "text/plain": [
       "[1] 7559    7"
      ]
     },
     "metadata": {},
     "output_type": "display_data"
    }
   ],
   "source": [
    "# Creating a variable for a company\n",
    "    # We are filtering the dataset for the rows with the City PERMNO\n",
    "citi <- data[data$PERMNO == 70519,]\n",
    "\n",
    "# Dimension\n",
    "dim(citi)"
   ]
  },
  {
   "cell_type": "code",
   "execution_count": 20,
   "metadata": {},
   "outputs": [
    {
     "data": {
      "text/html": [
       "<table>\n",
       "<thead><tr><th></th><th scope=col>PERMNO</th><th scope=col>date</th><th scope=col>TICKER</th><th scope=col>COMNAM</th><th scope=col>PRC</th><th scope=col>RET</th><th scope=col>CFACPR</th></tr></thead>\n",
       "<tbody>\n",
       "\t<tr><th scope=row>37796</th><td>70519             </td><td>19900102          </td><td>PA                </td><td>PRIMERICA CORP NEW</td><td>29.375            </td><td> 0.030702         </td><td>1.284085          </td></tr>\n",
       "\t<tr><th scope=row>37797</th><td>70519             </td><td>19900103          </td><td>PA                </td><td>PRIMERICA CORP NEW</td><td>29.750            </td><td> 0.012766         </td><td>1.284085          </td></tr>\n",
       "\t<tr><th scope=row>37798</th><td>70519             </td><td>19900104          </td><td>PA                </td><td>PRIMERICA CORP NEW</td><td>29.375            </td><td>-0.012605         </td><td>1.284085          </td></tr>\n",
       "\t<tr><th scope=row>37799</th><td>70519             </td><td>19900105          </td><td>PA                </td><td>PRIMERICA CORP NEW</td><td>29.625            </td><td> 0.008511         </td><td>1.284085          </td></tr>\n",
       "\t<tr><th scope=row>37800</th><td>70519             </td><td>19900108          </td><td>PA                </td><td>PRIMERICA CORP NEW</td><td>29.875            </td><td> 0.008439         </td><td>1.284085          </td></tr>\n",
       "\t<tr><th scope=row>37801</th><td>70519             </td><td>19900109          </td><td>PA                </td><td>PRIMERICA CORP NEW</td><td>29.500            </td><td>-0.012552         </td><td>1.284085          </td></tr>\n",
       "</tbody>\n",
       "</table>\n"
      ],
      "text/latex": [
       "\\begin{tabular}{r|lllllll}\n",
       "  & PERMNO & date & TICKER & COMNAM & PRC & RET & CFACPR\\\\\n",
       "\\hline\n",
       "\t37796 & 70519              & 19900102           & PA                 & PRIMERICA CORP NEW & 29.375             &  0.030702          & 1.284085          \\\\\n",
       "\t37797 & 70519              & 19900103           & PA                 & PRIMERICA CORP NEW & 29.750             &  0.012766          & 1.284085          \\\\\n",
       "\t37798 & 70519              & 19900104           & PA                 & PRIMERICA CORP NEW & 29.375             & -0.012605          & 1.284085          \\\\\n",
       "\t37799 & 70519              & 19900105           & PA                 & PRIMERICA CORP NEW & 29.625             &  0.008511          & 1.284085          \\\\\n",
       "\t37800 & 70519              & 19900108           & PA                 & PRIMERICA CORP NEW & 29.875             &  0.008439          & 1.284085          \\\\\n",
       "\t37801 & 70519              & 19900109           & PA                 & PRIMERICA CORP NEW & 29.500             & -0.012552          & 1.284085          \\\\\n",
       "\\end{tabular}\n"
      ],
      "text/markdown": [
       "\n",
       "| <!--/--> | PERMNO | date | TICKER | COMNAM | PRC | RET | CFACPR |\n",
       "|---|---|---|---|---|---|---|---|\n",
       "| 37796 | 70519              | 19900102           | PA                 | PRIMERICA CORP NEW | 29.375             |  0.030702          | 1.284085           |\n",
       "| 37797 | 70519              | 19900103           | PA                 | PRIMERICA CORP NEW | 29.750             |  0.012766          | 1.284085           |\n",
       "| 37798 | 70519              | 19900104           | PA                 | PRIMERICA CORP NEW | 29.375             | -0.012605          | 1.284085           |\n",
       "| 37799 | 70519              | 19900105           | PA                 | PRIMERICA CORP NEW | 29.625             |  0.008511          | 1.284085           |\n",
       "| 37800 | 70519              | 19900108           | PA                 | PRIMERICA CORP NEW | 29.875             |  0.008439          | 1.284085           |\n",
       "| 37801 | 70519              | 19900109           | PA                 | PRIMERICA CORP NEW | 29.500             | -0.012552          | 1.284085           |\n",
       "\n"
      ],
      "text/plain": [
       "      PERMNO date     TICKER COMNAM             PRC    RET       CFACPR  \n",
       "37796 70519  19900102 PA     PRIMERICA CORP NEW 29.375  0.030702 1.284085\n",
       "37797 70519  19900103 PA     PRIMERICA CORP NEW 29.750  0.012766 1.284085\n",
       "37798 70519  19900104 PA     PRIMERICA CORP NEW 29.375 -0.012605 1.284085\n",
       "37799 70519  19900105 PA     PRIMERICA CORP NEW 29.625  0.008511 1.284085\n",
       "37800 70519  19900108 PA     PRIMERICA CORP NEW 29.875  0.008439 1.284085\n",
       "37801 70519  19900109 PA     PRIMERICA CORP NEW 29.500 -0.012552 1.284085"
      ]
     },
     "metadata": {},
     "output_type": "display_data"
    }
   ],
   "source": [
    "# Check the first few elements\n",
    "head(citi)"
   ]
  },
  {
   "cell_type": "code",
   "execution_count": 21,
   "metadata": {},
   "outputs": [
    {
     "data": {
      "text/html": [
       "<ol class=list-inline>\n",
       "\t<li>'PA'</li>\n",
       "\t<li>'TRV'</li>\n",
       "\t<li>'CCI'</li>\n",
       "\t<li>'C'</li>\n",
       "</ol>\n"
      ],
      "text/latex": [
       "\\begin{enumerate*}\n",
       "\\item 'PA'\n",
       "\\item 'TRV'\n",
       "\\item 'CCI'\n",
       "\\item 'C'\n",
       "\\end{enumerate*}\n"
      ],
      "text/markdown": [
       "1. 'PA'\n",
       "2. 'TRV'\n",
       "3. 'CCI'\n",
       "4. 'C'\n",
       "\n",
       "\n"
      ],
      "text/plain": [
       "[1] \"PA\"  \"TRV\" \"CCI\" \"C\"  "
      ]
     },
     "metadata": {},
     "output_type": "display_data"
    }
   ],
   "source": [
    "# Check different tickers for the same PERMNO\n",
    "unique(citi$TICKER)\n",
    "\n",
    "# Why does this happen?"
   ]
  },
  {
   "cell_type": "code",
   "execution_count": 22,
   "metadata": {},
   "outputs": [
    {
     "data": {
      "text/html": [
       "'Highest return for Citi: 57.8249%'"
      ],
      "text/latex": [
       "'Highest return for Citi: 57.8249\\%'"
      ],
      "text/markdown": [
       "'Highest return for Citi: 57.8249%'"
      ],
      "text/plain": [
       "[1] \"Highest return for Citi: 57.8249%\""
      ]
     },
     "metadata": {},
     "output_type": "display_data"
    }
   ],
   "source": [
    "# Highest return for Citi\n",
    "highest_citi <- max(citi$RET) * 100\n",
    "paste0(\"Highest return for Citi: \", highest_citi, \"%\")"
   ]
  },
  {
   "cell_type": "markdown",
   "metadata": {},
   "source": [
    "___\n",
    "<a name=\"4\"></a>\n",
    "## Simple plots\n",
    "\n",
    "R can easily build plots to visualize data. We will use the `plot` command for this. To read the documentation on the command, you can type `?plot` in the console and see all the options it includes."
   ]
  },
  {
   "cell_type": "code",
   "execution_count": 23,
   "metadata": {
    "scrolled": true
   },
   "outputs": [
    {
     "data": {
      "image/png": "[encoded data removed]",
      "text/plain": [
       "Plot with title “Price of Citi”"
      ]
     },
     "metadata": {
      "image/png": {
       "height": 420,
       "width": 420
      },
      "text/plain": {
       "height": 420,
       "width": 420
      }
     },
     "output_type": "display_data"
    }
   ],
   "source": [
    "plot(citi$PRC, type = \"l\", main = \"Price of Citi\")"
   ]
  },
  {
   "cell_type": "markdown",
   "metadata": {},
   "source": [
    "## Recap\n",
    "\n",
    "In this seminar we have covered:\n",
    "\n",
    "* Downloading and working with R and RStudio\n",
    "* Data types in R, basic operations, accessing elements\n",
    "* For loops and if statements\n",
    "* Downloading and importing data from CRSP into R\n",
    "* Extracting columns from a data frame\n",
    "* Finding the maximum value of a variable\n",
    "* Making a simple plot\n",
    "\n",
    "Some new functions used:\n",
    "\n",
    "* `matrix()`\n",
    "* `length()`\n",
    "* `dim()`\n",
    "* `seq()`\n",
    "* `data.frame()`\n",
    "* `print()`\n",
    "* `read.csv()`\n",
    "* `head()`\n",
    "* `names()`\n",
    "* `unique()`\n",
    "* `paste0()`\n",
    "* `plot()`\n"
   ]
  },
  {
   "cell_type": "markdown",
   "metadata": {},
   "source": [
    "For more discussion on the material covered in this seminar, refer to _Chapter 1: Financial markets, prices and risk_ on _Financial Risk Forecasting_ by Jon Danielsson."
   ]
  },
  {
   "cell_type": "markdown",
   "metadata": {},
   "source": [
    "<small> Acknowledgements: Thanks to Alvaro Aguirre for creating these notebooks</small>  \n",
    "<small> © Jon Danielsson, 2020 </small>"
   ]
  }
 ],
 "metadata": {
  "kernelspec": {
   "display_name": "R",
   "language": "R",
   "name": "ir"
  },
  "language_info": {
   "codemirror_mode": "r",
   "file_extension": ".r",
   "mimetype": "text/x-r-source",
   "name": "R",
   "pygments_lexer": "r",
   "version": "3.6.0"
  }
 },
 "nbformat": 4,
 "nbformat_minor": 2
}
